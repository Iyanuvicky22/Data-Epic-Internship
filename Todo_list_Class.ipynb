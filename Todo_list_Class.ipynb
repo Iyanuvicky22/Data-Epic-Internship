{
  "cells": [
    {
      "cell_type": "markdown",
      "metadata": {
        "id": "h1s6Jg9_0Q2N"
      },
      "source": [
        "# Create a Class:\n",
        "Define a class named TodoList.\n",
        "\n",
        "\n",
        "### Methods to Implement:\n",
        "\n",
        "```Add Task:``` A method to add a new task to the todo list.\n",
        "\n",
        "```Delete Task:``` A method to delete a task from the todo list.\n",
        "\n",
        "```Show All Tasks:``` A method to display all tasks in the todo list.\n",
        "Mark Task as Completed: A method to mark a task as completed.\n",
        "\n",
        "```Version Control:```\n",
        "Make sure to make commits of your task to the Data Epic organization Git repository. Check for a reminder on how to do that in ⁠task-submission\n",
        "Follow proper commit messages and structure for your commits.\n",
        "\n",
        "```Deadline:```\n",
        "The task is due by Friday at 12pm."
      ]
    },
    {
      "cell_type": "code",
      "execution_count": null,
      "metadata": {
        "id": "rUGl7aSExQ9f"
      },
      "outputs": [],
      "source": [
        "class TodoList:\n",
        "  \"\"\"\n",
        "  This is a class that creates a Todo List\n",
        "  Tasks can be added, deleted, displayed and marked as completed\n",
        "\n",
        "  \"\"\"\n",
        "\n",
        "  def __init__(self):\n",
        "    \"\"\"\n",
        "    This initiates the empty to do list.\n",
        "\n",
        "    \"\"\"\n",
        "    self.todo_list = []\n",
        "    self.completed_tasks = []\n",
        "    self.all_tasks = []\n",
        "\n",
        "\n",
        "  def add_task(self, add):\n",
        "    \"\"\"\n",
        "    This method adds a task to the todo list\n",
        "    Args:\n",
        "      add: designates the task to be added to the list.\n",
        "    \"\"\"\n",
        "    add = str(add)\n",
        "    self.todo_list.append(add)\n",
        "\n",
        "  def delete_task(self, delete):\n",
        "    \"\"\"\n",
        "    This methods deletes a listed task from the list.\n",
        "    Args:\n",
        "      delete: designates the task to be deleted.\n",
        "    \"\"\"\n",
        "    self.todo_list.pop(delete)\n",
        "\n",
        "  def show_all_task(self):\n",
        "    \"\"\"\n",
        "\n",
        "    Returns: This method shows the available tasks in the list.\n",
        "\n",
        "    \"\"\"\n",
        "    return self.todo_list\n",
        "\n",
        "  def mark_as_completed(self, mark):\n",
        "    \"\"\"\n",
        "    This method marks a task as completed.\n",
        "    Args:\n",
        "      mark: designates the task to be marked as complete.\n",
        "    \"\"\"\n",
        "    print(f\"Task '{self.todo_list[mark]}' is completed\")\n",
        "    self.todo_list.pop(mark)\n",
        "    self.completed_tasks.append(mark)\n",
        "\n",
        "\n"
      ]
    },
    {
      "cell_type": "code",
      "execution_count": 3,
      "metadata": {
        "colab": {
          "base_uri": "https://localhost:8080/"
        },
        "id": "MmFLtnYHCK8T",
        "outputId": "6cdf2b51-4256-457f-e054-831457c375c4"
      },
      "outputs": [
        {
          "name": "stdout",
          "output_type": "stream",
          "text": [
            "Task 'Finish Python assignment' is completed\n"
          ]
        },
        {
          "data": {
            "text/plain": [
              "['Read OOP chapter']"
            ]
          },
          "execution_count": 3,
          "metadata": {},
          "output_type": "execute_result"
        }
      ],
      "source": [
        "# Create a new todo list\n",
        "my_todo_list = TodoList()\n",
        "\n",
        "# Add tasks\n",
        "my_todo_list.add_task(\"Finish Python assignment\")\n",
        "my_todo_list.add_task(\"Read OOP chapter\")\n",
        "\n",
        "# Show all tasks\n",
        "my_todo_list.show_all_task()\n",
        "\n",
        "# Mark the first task as completed\n",
        "my_todo_list.mark_as_completed(0)\n",
        "\n",
        "# Show all tasks again to see the updates\n",
        "my_todo_list.show_all_task()\n",
        "\n",
        "# Delete the second task\n",
        "my_todo_list.delete_task(0)\n",
        "\n",
        "# Show all tasks again to see the updates\n",
        "my_todo_list.show_all_task()"
      ]
    },
    {
      "cell_type": "markdown",
      "metadata": {
        "colab": {
          "base_uri": "https://localhost:8080/"
        },
        "id": "LrQ3nJA80Pdw",
        "outputId": "d974c47a-cfaa-4680-a6d8-81d2d722c4fe"
      },
      "source": [
        "#### Task Details\n",
        "\n",
        "```Create a Base Class:```Define a base class called Item that will have common attributes and methods which can be inherited. For example, each item might have a description and a status (completed or not).\n",
        "\n",
        "```Extend the Item Class:```\n",
        "Create two derived classes from Item:\n",
        "\n",
        "*Task:* Represents a regular task. Include specific attributes or methods that apply only to tasks.\n",
        "\n",
        "*Event:* Represents a calendar event. Add attributes like event date and start/end times.\n",
        "\n",
        "```Implement Polymorphism:```\n",
        "Override a common method in both derived classes, such as a method to display the item details. Each class should format the details in a way that is appropriate for its type.\n",
        "For example, tasks might show completion status, while events show the date and time.\n",
        "\n",
        "```Modify TodoList Class:```\n",
        "Adapt the TodoList class to handle both Tasks and Events. Ensure that methods such as add_item, delete_item, and show_items are polymorphic and handle different item types correctly.\n",
        "\n",
        "``Main Method:``\n",
        "Ensure your application includes a main method that initializes the TodoList and allows users to interact with it. This will make your application modular and easier to run.\n",
        "\n",
        "#### Example Scenario:\n",
        "Your Todo List can now handle both tasks like \"Finish the OOP assignment\" and events like \"Team meeting on Zoom at 3 PM on Friday\".\n",
        "When showing items, the output should reflect the type of item and its specific attributes."
      ]
    },
    {
      "cell_type": "code",
      "execution_count": 2,
      "metadata": {
        "colab": {
          "base_uri": "https://localhost:8080/"
        },
        "id": "KMUx3JX1xVNs",
        "outputId": "1c9defed-95c4-452a-a957-2b91c94edeb4"
      },
      "outputs": [
        {
          "ename": "IndentationError",
          "evalue": "unindent does not match any outer indentation level (<tokenize>, line 26)",
          "output_type": "error",
          "traceback": [
            "\u001b[1;36m  File \u001b[1;32m<tokenize>:26\u001b[1;36m\u001b[0m\n\u001b[1;33m    def details(self):\u001b[0m\n\u001b[1;37m    ^\u001b[0m\n\u001b[1;31mIndentationError\u001b[0m\u001b[1;31m:\u001b[0m unindent does not match any outer indentation level\n"
          ]
        }
      ],
      "source": [
        "class Item:\n",
        "    \"\"\"\n",
        "\n",
        "    \"\"\"\n",
        "    def __init__(self, description):\n",
        "        \"\"\"\n",
        "\n",
        "        \"\"\"\n",
        "        self.description = description\n",
        "        self.status = False\n",
        "        pass\n",
        "\n",
        "    def details(self):\n",
        "        \"\"\"\n",
        "\n",
        "        \"\"\"\n",
        "        print(f'{description}')\n",
        "\n",
        "        pass\n",
        "\n",
        "class Task(Item):\n",
        "        \"\"\"\n",
        "\n",
        "        \"\"\"    \n",
        "        \n",
        "    def details(self):\n",
        "        \"\"\"\n",
        "\n",
        "        \"\"\" \n",
        "        print(f'{description}')       \n",
        "        pass\n",
        "\n",
        "\n",
        "class Event(Item):\n",
        "        \"\"\"\n",
        "\n",
        "        \"\"\"    \n",
        "\n",
        "    def details(self, description,location,time,day):\n",
        "        \"\"\"\n",
        "\n",
        "        \"\"\"\n",
        "        print(f'{description} on {location} at {time} on {day}.')\n",
        "        pass\n",
        "\n",
        "\n",
        "\n",
        "\n",
        "class TodoList:\n",
        "  \"\"\"\n",
        "  This is a class that creates a Todo List\n",
        "  Tasks can be added, deleted, displayed and marked as completed\n",
        "\n",
        "  \"\"\"\n",
        "\n",
        "  def __init__(self):\n",
        "    \"\"\"\n",
        "    This initiates the empty to do list.\n",
        "\n",
        "    \"\"\"\n",
        "    self.todo_list = []\n",
        "    self.completed_tasks = []\n",
        "    self.all_tasks = []\n",
        "\n",
        "\n",
        "  def add_task(self, add):\n",
        "    \"\"\"\n",
        "    This method adds a task to the todo list\n",
        "    Args:\n",
        "      add: designates the task to be added to the list.\n",
        "    \"\"\"\n",
        "    add = str(add)\n",
        "    self.todo_list.append(add)\n",
        "\n",
        "  def delete_task(self, delete):\n",
        "    \"\"\"\n",
        "    This methods deletes a listed task from the list.\n",
        "    Args:\n",
        "      delete: designates the task to be deleted.\n",
        "    \"\"\"\n",
        "    self.todo_list.pop(delete)\n",
        "\n",
        "  def show_all_task(self):\n",
        "    \"\"\"\n",
        "\n",
        "    Returns: This method shows the available tasks in the list.\n",
        "\n",
        "    \"\"\"\n",
        "    return self.todo_list\n",
        "\n",
        "  def mark_as_completed(self, mark):\n",
        "    \"\"\"\n",
        "    This method marks a task as completed.\n",
        "    Args:\n",
        "      mark: designates the task to be marked as complete.\n",
        "    \"\"\"\n",
        "    print(f\"Task '{self.todo_list[mark]}' is completed\")\n",
        "    self.todo_list.pop(mark)\n",
        "    self.completed_tasks.append(mark)\n",
        "\n",
        "\n",
        "\n",
        "def main():\n",
        "        \"\"\"\n",
        "\n",
        "        \"\"\"    \n",
        "    # Creating TodoList Object\n",
        "    todo_list = TodoList()\n",
        "    \n",
        "    while True:\n",
        "        \"\"\"\n",
        "\n",
        "        \"\"\"     \n",
        "        print(\"\\nTodo List Menu:\")\n",
        "        print(\"1. Add Task\")\n",
        "        print(\"2. Delete Task\")\n",
        "        print(\"3. Show Tasks\")\n",
        "        print(\"4. Mark Task as Completed\")\n",
        "        print(\"5. Exit\")\n",
        "        \n",
        "        choice = input(\"Enter your choice: \")\n",
        "        \"\"\"\n",
        "\n",
        "        \"\"\"        \n",
        "        if choice == '1':\n",
        "            description = input(\"Enter the task description: \")\n",
        "            todo_list.add_task(description)\n",
        "        elif choice == '2':\n",
        "            task_id = int(input(\"Enter the task ID to delete: \"))\n",
        "            todo_list.delete_task(task_id)\n",
        "        elif choice == '3':\n",
        "            todo_list.show_tasks()\n",
        "        elif choice == '4':\n",
        "            task_id = int(input(\"Enter the task ID to mark as completed: \"))\n",
        "            todo_list.mark_as_completed(task_id)\n",
        "        elif choice == '5':\n",
        "            print(\"Exiting the Todo List app. Goodbye!\")\n",
        "            break\n",
        "        else:\n",
        "            print(\"Invalid choice. Please try again.\")\n",
        "\n",
        "\n",
        "if __name__ == \"__main__\":\n",
        "    main()\n"
      ]
    },
    {
      "cell_type": "code",
      "execution_count": 5,
      "metadata": {
        "colab": {
          "base_uri": "https://localhost:8080/"
        },
        "id": "KnqiPq-ExVQi",
        "outputId": "047e1cfa-6015-4bbe-ad28-21eacf6ae7d5"
      },
      "outputs": [
        {
          "data": {
            "text/plain": [
              "['Finish Python Assignment']"
            ]
          },
          "execution_count": 5,
          "metadata": {},
          "output_type": "execute_result"
        }
      ],
      "source": [
        "a.show_all_task()"
      ]
    },
    {
      "cell_type": "code",
      "execution_count": 1,
      "metadata": {
        "id": "ktoD5qoVxVTX"
      },
      "outputs": [
        {
          "name": "stdout",
          "output_type": "stream",
          "text": [
            "Your Tasks For 20/05/2024 are:\n",
            "\n",
            "Wake up\n",
            "\n",
            "Brush teeth\n",
            "\n",
            "Perform ablution ✓\n",
            "\n",
            "Pray ✓\n",
            "\n",
            "Take a bath\n",
            "\n",
            "Your Tasks For 20/05/2024 are:\n",
            "\n",
            "Wake up\n",
            "\n",
            "Perform ablution ✓\n",
            "\n",
            "Pray ✓\n",
            "\n",
            "Take a bath\n",
            "\n"
          ]
        }
      ],
      "source": [
        "# Create Class Todolist\n",
        "class Todolist:\n",
        "\n",
        "\t# Initiate class Todolist with \"date\" and list(\"tasks\") class attributes\n",
        "    def __init__(self, date, tasks = []):\n",
        "    \tself.date = date\n",
        "    \tself.tasks = tasks\n",
        "        \n",
        "    # Method to add task to the list where \"task\" attribute is the new task   \n",
        "    def add_task(self, task):\n",
        "        self.tasks.append(task)\n",
        "\n",
        "    # Method to mark task as complete where \"x\" is the index of completed task\n",
        "    def mark_as_complete(self, x):\n",
        "    \tself.tasks[x] = self.tasks[x] + u\" \\u2713\" # mark sign\n",
        "\n",
        "    # Method to delete task \"x\" is the index of task to be deleted\n",
        "    def delete_task(self, x):\n",
        "    \tdel(self.tasks[x])\n",
        "\n",
        "    # Method to make a line by line list of tasks\n",
        "    def li(self, x):\n",
        "    \tfor i in x:\n",
        "    \t\tprint(f\"{i}\\n\") \n",
        "\n",
        "    # Method to show tasks \n",
        "    def show_tasks(self):\n",
        "       print(f\"Your Tasks For {self.date} are:\\n\") # heading\n",
        "       self.li(self.tasks) # line by line list\n",
        "\n",
        "\n",
        "#Test ----------------------------------------------------\n",
        "\n",
        "# instance of the class Todolist\n",
        "todo = Todolist(\"20/05/2024\", [])\n",
        "# add a task\n",
        "todo.add_task(\"Wake up\")\n",
        "# add a task\n",
        "todo.add_task(\"Brush teeth\")\n",
        "# add a task\n",
        "todo.add_task(\"Perform ablution\")\n",
        "# add a task\n",
        "todo.add_task('Pray')\n",
        "# add a task\n",
        "todo.add_task(\"Take a bath\")\n",
        "# mark third task as complete\n",
        "todo.mark_as_complete(2)\n",
        "todo.mark_as_complete(3)\n",
        "# show all tasks\n",
        "todo.show_tasks()\n",
        "# delete second task\n",
        "todo.delete_task(1)\n",
        "# show all task\n",
        "todo.show_tasks()"
      ]
    },
    {
      "cell_type": "code",
      "execution_count": 1,
      "metadata": {
        "id": "HMtIU3KvxVWL"
      },
      "outputs": [
        {
          "name": "stdout",
          "output_type": "stream",
          "text": [
            "Is the item an event or task?\n",
            "Press 1 for Event!\n",
            "Press 2 for Task!\n",
            "Event\n",
            "Is the item an event or task?\n",
            "Press 1 for Event!\n",
            "Press 2 for Task!\n",
            "Task\n"
          ]
        }
      ],
      "source": [
        "item_type = {'Event' : 1, 'Task': 2}\n",
        "for item in item_type:\n",
        "    print('Is the item an event or task?')\n",
        "    print('Press 1 for Event!')\n",
        "    print('Press 2 for Task!')\n",
        "    print(item)\n",
        "    # choice = input(\"Insert your item\")\n",
        "    # if item == 'Event':\n",
        "    #     print('Adele')\n",
        "    # elif item == 'Task':\n",
        "    #     # task = Event(description, location, time, day)\n",
        "    #     print('Adelebo')\n",
        "    # else:\n",
        "    #     print('Invalid input! Try again')\n",
        "    #     break"
      ]
    },
    {
      "cell_type": "code",
      "execution_count": null,
      "metadata": {
        "id": "lGeZFkWKxVYs"
      },
      "outputs": [],
      "source": []
    },
    {
      "cell_type": "code",
      "execution_count": null,
      "metadata": {
        "id": "O8i3jA6qxVbV"
      },
      "outputs": [],
      "source": []
    },
    {
      "cell_type": "code",
      "execution_count": null,
      "metadata": {
        "id": "jiw2dnP2xVep"
      },
      "outputs": [],
      "source": []
    }
  ],
  "metadata": {
    "colab": {
      "provenance": []
    },
    "kernelspec": {
      "display_name": "Python 3",
      "name": "python3"
    },
    "language_info": {
      "codemirror_mode": {
        "name": "ipython",
        "version": 3
      },
      "file_extension": ".py",
      "mimetype": "text/x-python",
      "name": "python",
      "nbconvert_exporter": "python",
      "pygments_lexer": "ipython3",
      "version": "3.11.5"
    }
  },
  "nbformat": 4,
  "nbformat_minor": 0
}
