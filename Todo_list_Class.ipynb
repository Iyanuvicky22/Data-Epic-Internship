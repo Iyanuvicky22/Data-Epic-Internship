{
  "cells": [
    {
      "cell_type": "markdown",
      "metadata": {
        "id": "h1s6Jg9_0Q2N"
      },
      "source": [
        "# Create a Class:\n",
        "Define a class named TodoList.\n",
        "\n",
        "\n",
        "### Methods to Implement:\n",
        "\n",
        "```Add Task:``` A method to add a new task to the todo list.\n",
        "\n",
        "```Delete Task:``` A method to delete a task from the todo list.\n",
        "\n",
        "```Show All Tasks:``` A method to display all tasks in the todo list.\n",
        "Mark Task as Completed: A method to mark a task as completed.\n",
        "\n",
        "```Version Control:```\n",
        "Make sure to make commits of your task to the Data Epic organization Git repository. Check for a reminder on how to do that in ⁠task-submission\n",
        "Follow proper commit messages and structure for your commits.\n",
        "\n",
        "```Deadline:```\n",
        "The task is due by Friday at 12pm."
      ]
    },
    {
      "cell_type": "code",
      "execution_count": 4,
      "metadata": {
        "id": "rUGl7aSExQ9f"
      },
      "outputs": [],
      "source": [
        "class TodoList:\n",
        "  \"\"\"\n",
        "  This is a class that creates a Todo List\n",
        "  Tasks can be added, deleted, displayed and marked as completed\n",
        "\n",
        "  \"\"\"\n",
        "\n",
        "  def __init__(self):\n",
        "    \"\"\"\n",
        "    This initiates the empty to do list.\n",
        "\n",
        "    \"\"\"\n",
        "    self.todo_list = []\n",
        "    self.completed_tasks = []\n",
        "    self.all_tasks = []\n",
        "\n",
        "\n",
        "  def add_task(self, add):\n",
        "    \"\"\"\n",
        "    This method adds a task to the todo list\n",
        "    Args:\n",
        "      add: designates the task to be added to the list.\n",
        "    \"\"\"\n",
        "    add = str(add)\n",
        "    self.todo_list.append(add)\n",
        "\n",
        "  def delete_task(self, delete):\n",
        "    \"\"\"\n",
        "    This methods deletes a listed task from the list.\n",
        "    Args:\n",
        "      delete: designates the task to be deleted.\n",
        "    \"\"\"\n",
        "    self.todo_list.pop(delete)\n",
        "\n",
        "  def show_all_task(self):\n",
        "    \"\"\"\n",
        "\n",
        "    Returns: This method shows the available tasks in the list.\n",
        "\n",
        "    \"\"\"\n",
        "    return self.todo_list\n",
        "\n",
        "  def mark_as_completed(self, mark):\n",
        "    \"\"\"\n",
        "    This method marks a task as completed.\n",
        "    Args:\n",
        "      mark: designates the task to be marked as complete.\n",
        "    \"\"\"\n",
        "    print(f\"Task '{self.todo_list[mark]}' is completed\")\n",
        "    self.todo_list.pop(mark)\n",
        "    self.completed_tasks.append(mark)\n",
        "\n",
        "\n"
      ]
    },
    {
      "cell_type": "code",
      "execution_count": 3,
      "metadata": {
        "colab": {
          "base_uri": "https://localhost:8080/"
        },
        "id": "MmFLtnYHCK8T",
        "outputId": "6cdf2b51-4256-457f-e054-831457c375c4"
      },
      "outputs": [
        {
          "name": "stdout",
          "output_type": "stream",
          "text": [
            "Task 'Finish Python assignment' is completed\n"
          ]
        },
        {
          "data": {
            "text/plain": [
              "['Read OOP chapter']"
            ]
          },
          "execution_count": 3,
          "metadata": {},
          "output_type": "execute_result"
        }
      ],
      "source": [
        "# Create a new todo list\n",
        "my_todo_list = TodoList()\n",
        "\n",
        "# Add tasks\n",
        "my_todo_list.add_task(\"Finish Python assignment\")\n",
        "my_todo_list.add_task(\"Read OOP chapter\")\n",
        "\n",
        "# Show all tasks\n",
        "my_todo_list.show_all_task()\n",
        "\n",
        "# Mark the first task as completed\n",
        "my_todo_list.mark_as_completed(0)\n",
        "\n",
        "# Show all tasks again to see the updates\n",
        "my_todo_list.show_all_task()\n",
        "\n",
        "# Delete the second task\n",
        "my_todo_list.delete_task(0)\n",
        "\n",
        "# Show all tasks again to see the updates\n",
        "my_todo_list.show_all_task()"
      ]
    },
    {
      "cell_type": "markdown",
      "metadata": {
        "colab": {
          "base_uri": "https://localhost:8080/"
        },
        "id": "LrQ3nJA80Pdw",
        "outputId": "d974c47a-cfaa-4680-a6d8-81d2d722c4fe"
      },
      "source": [
        "#### Task Details\n",
        "\n",
        "```Create a Base Class:```Define a base class called Item that will have common attributes and methods which can be inherited. For example, each item might have a description and a status (completed or not).\n",
        "\n",
        "```Extend the Item Class:```\n",
        "Create two derived classes from Item:\n",
        "\n",
        "*Task:* Represents a regular task. Include specific attributes or methods that apply only to tasks.\n",
        "\n",
        "*Event:* Represents a calendar event. Add attributes like event date and start/end times.\n",
        "\n",
        "```Implement Polymorphism:```\n",
        "Override a common method in both derived classes, such as a method to display the item details. Each class should format the details in a way that is appropriate for its type.\n",
        "For example, tasks might show completion status, while events show the date and time.\n",
        "\n",
        "```Modify TodoList Class:```\n",
        "Adapt the TodoList class to handle both Tasks and Events. Ensure that methods such as add_item, delete_item, and show_items are polymorphic and handle different item types correctly.\n",
        "\n",
        "``Main Method:``\n",
        "Ensure your application includes a main method that initializes the TodoList and allows users to interact with it. This will make your application modular and easier to run.\n",
        "\n",
        "#### Example Scenario:\n",
        "Your Todo List can now handle both tasks like \"Finish the OOP assignment\" and events like \"Team meeting on Zoom at 3 PM on Friday\".\n",
        "When showing items, the output should reflect the type of item and its specific attributes."
      ]
    },
    {
      "cell_type": "code",
      "execution_count": 7,
      "metadata": {
        "colab": {
          "base_uri": "https://localhost:8080/"
        },
        "id": "KMUx3JX1xVNs",
        "outputId": "1c9defed-95c4-452a-a957-2b91c94edeb4"
      },
      "outputs": [],
      "source": [
        "class Item:\n",
        "    \"\"\"\n",
        "\n",
        "    \"\"\"\n",
        "    def __init__(self, description, status):\n",
        "        \"\"\"\n",
        "\n",
        "        \"\"\"\n",
        "        # self.description = description\n",
        "        # self.status = status\n",
        "        pass\n",
        "\n",
        "    def details(self, description, status):\n",
        "        \"\"\"\n",
        "\n",
        "        \"\"\"\n",
        "        pass\n",
        "\n",
        "class Task(Item):\n",
        "        \"\"\"\n",
        "\n",
        "        \"\"\"    \n",
        "        \n",
        "    def details(self, description, status):\n",
        "        \"\"\"\n",
        "\n",
        "        \"\"\"        \n",
        "        pass\n",
        "\n",
        "\n",
        "class Event(Item):\n",
        "        \"\"\"\n",
        "\n",
        "        \"\"\"    \n",
        "\n",
        "    def details(self, description, date, time):\n",
        "        \"\"\"\n",
        "\n",
        "        \"\"\"\n",
        "        pass\n",
        "\n",
        "\n",
        "\n",
        "\n",
        "class TodoList:\n",
        "  \"\"\"\n",
        "  This is a class that creates a Todo List\n",
        "  Tasks can be added, deleted, displayed and marked as completed\n",
        "\n",
        "  \"\"\"\n",
        "\n",
        "  def __init__(self):\n",
        "    \"\"\"\n",
        "    This initiates the empty to do list.\n",
        "\n",
        "    \"\"\"\n",
        "    self.todo_list = []\n",
        "    self.completed_tasks = []\n",
        "    self.all_tasks = []\n",
        "\n",
        "\n",
        "  def add_task(self, add):\n",
        "    \"\"\"\n",
        "    This method adds a task to the todo list\n",
        "    Args:\n",
        "      add: designates the task to be added to the list.\n",
        "    \"\"\"\n",
        "    add = str(add)\n",
        "    self.todo_list.append(add)\n",
        "\n",
        "  def delete_task(self, delete):\n",
        "    \"\"\"\n",
        "    This methods deletes a listed task from the list.\n",
        "    Args:\n",
        "      delete: designates the task to be deleted.\n",
        "    \"\"\"\n",
        "    self.todo_list.pop(delete)\n",
        "\n",
        "  def show_all_task(self):\n",
        "    \"\"\"\n",
        "\n",
        "    Returns: This method shows the available tasks in the list.\n",
        "\n",
        "    \"\"\"\n",
        "    return self.todo_list\n",
        "\n",
        "  def mark_as_completed(self, mark):\n",
        "    \"\"\"\n",
        "    This method marks a task as completed.\n",
        "    Args:\n",
        "      mark: designates the task to be marked as complete.\n",
        "    \"\"\"\n",
        "    print(f\"Task '{self.todo_list[mark]}' is completed\")\n",
        "    self.todo_list.pop(mark)\n",
        "    self.completed_tasks.append(mark)\n",
        "\n",
        "\n",
        "\n",
        "def main():\n",
        "        \"\"\"\n",
        "\n",
        "        \"\"\"    \n",
        "    # Creating TodoList Object\n",
        "    todo_list = TodoList()\n",
        "    \n",
        "    while True:\n",
        "        \"\"\"\n",
        "\n",
        "        \"\"\"     \n",
        "        print(\"\\nTodo List Menu:\")\n",
        "        print(\"1. Add Task\")\n",
        "        print(\"2. Delete Task\")\n",
        "        print(\"3. Show Tasks\")\n",
        "        print(\"4. Mark Task as Completed\")\n",
        "        print(\"5. Exit\")\n",
        "        \n",
        "        choice = input(\"Enter your choice: \")\n",
        "        \"\"\"\n",
        "\n",
        "        \"\"\"        \n",
        "        if choice == '1':\n",
        "            description = input(\"Enter the task description: \")\n",
        "            todo_list.add_task(description)\n",
        "        elif choice == '2':\n",
        "            task_id = int(input(\"Enter the task ID to delete: \"))\n",
        "            todo_list.delete_task(task_id)\n",
        "        elif choice == '3':\n",
        "            todo_list.show_tasks()\n",
        "        elif choice == '4':\n",
        "            task_id = int(input(\"Enter the task ID to mark as completed: \"))\n",
        "            todo_list.mark_as_completed(task_id)\n",
        "        elif choice == '5':\n",
        "            print(\"Exiting the Todo List app. Goodbye!\")\n",
        "            break\n",
        "        else:\n",
        "            print(\"Invalid choice. Please try again.\")\n",
        "\n",
        "\n",
        "if __name__ == \"__main__\":\n",
        "    main()\n"
      ]
    },
    {
      "cell_type": "code",
      "execution_count": 5,
      "metadata": {
        "colab": {
          "base_uri": "https://localhost:8080/"
        },
        "id": "KnqiPq-ExVQi",
        "outputId": "047e1cfa-6015-4bbe-ad28-21eacf6ae7d5"
      },
      "outputs": [
        {
          "data": {
            "text/plain": [
              "['Finish Python Assignment']"
            ]
          },
          "execution_count": 5,
          "metadata": {},
          "output_type": "execute_result"
        }
      ],
      "source": [
        "a.show_all_task()"
      ]
    },
    {
      "cell_type": "code",
      "execution_count": null,
      "metadata": {
        "id": "ktoD5qoVxVTX"
      },
      "outputs": [],
      "source": []
    },
    {
      "cell_type": "code",
      "execution_count": null,
      "metadata": {
        "id": "HMtIU3KvxVWL"
      },
      "outputs": [],
      "source": []
    },
    {
      "cell_type": "code",
      "execution_count": null,
      "metadata": {
        "id": "lGeZFkWKxVYs"
      },
      "outputs": [],
      "source": []
    },
    {
      "cell_type": "code",
      "execution_count": null,
      "metadata": {
        "id": "O8i3jA6qxVbV"
      },
      "outputs": [],
      "source": []
    },
    {
      "cell_type": "code",
      "execution_count": null,
      "metadata": {
        "id": "jiw2dnP2xVep"
      },
      "outputs": [],
      "source": []
    }
  ],
  "metadata": {
    "colab": {
      "provenance": []
    },
    "kernelspec": {
      "display_name": "Python 3",
      "name": "python3"
    },
    "language_info": {
      "codemirror_mode": {
        "name": "ipython",
        "version": 3
      },
      "file_extension": ".py",
      "mimetype": "text/x-python",
      "name": "python",
      "nbconvert_exporter": "python",
      "pygments_lexer": "ipython3",
      "version": "3.11.5"
    }
  },
  "nbformat": 4,
  "nbformat_minor": 0
}
